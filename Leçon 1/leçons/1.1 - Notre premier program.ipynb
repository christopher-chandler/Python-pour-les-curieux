{
 "cells": [
  {
   "cell_type": "markdown",
   "id": "5a8076cf",
   "metadata": {
    "pycharm": {
     "name": "#%%\n"
    }
   },
   "source": [
    "# 1 Notre premier program"
   ]
  },
  {
   "cell_type": "markdown",
   "id": "f0f23dd5",
   "metadata": {
    "pycharm": {
     "name": "#%% md\n"
    }
   },
   "source": [
    "Pour voir text dans la console, il faut utiliser la commande `print`. Donc, on l'utilise pour créer un program simple.\n",
    "`Hello world`"
   ]
  },
  {
   "cell_type": "code",
   "execution_count": 3,
   "id": "aeec1e42",
   "metadata": {
    "pycharm": {
     "name": "#%%\n"
    }
   },
   "outputs": [
    {
     "name": "stdout",
     "output_type": "stream",
     "text": [
      "hello world\n"
     ]
    }
   ],
   "source": [
    "print(\"hello world\")"
   ]
  },
  {
   "cell_type": "markdown",
   "id": "2ddd7b93",
   "metadata": {
    "pycharm": {
     "name": "#%% md\n"
    }
   },
   "source": [
    "`hello world`"
   ]
  },
  {
   "cell_type": "markdown",
   "id": "bff00688",
   "metadata": {
    "pycharm": {
     "name": "#%% md\n"
    }
   },
   "source": [
    "Et voilà ! Vous avez créé votre premier program en Python ! Félicitations !"
   ]
  },
  {
   "cell_type": "code",
   "execution_count": null,
   "id": "e40c9331",
   "metadata": {},
   "outputs": [],
   "source": []
  }
 ],
 "metadata": {
  "kernelspec": {
   "display_name": "Python 3 (ipykernel)",
   "language": "python",
   "name": "python3"
  },
  "language_info": {
   "codemirror_mode": {
    "name": "ipython",
    "version": 3
   },
   "file_extension": ".py",
   "mimetype": "text/x-python",
   "name": "python",
   "nbconvert_exporter": "python",
   "pygments_lexer": "ipython3",
   "version": "3.9.6"
  }
 },
 "nbformat": 4,
 "nbformat_minor": 5
}