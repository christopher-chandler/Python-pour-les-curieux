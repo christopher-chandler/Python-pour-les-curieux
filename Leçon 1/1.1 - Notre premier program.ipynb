{
 "cells": [
  {
   "cell_type": "code",
   "execution_count": 1,
   "id": "0c6c87e4",
   "metadata": {},
   "outputs": [],
   "source": [
    "# Notre premier program"
   ]
  },
  {
   "cell_type": "markdown",
   "id": "12dfdad0",
   "metadata": {},
   "source": [
    "J'ai acheté un livre qui s'appelait \"C++ for dummies\" il y a 13 ans. A cette epoque-là, j'avais vraiment le désir d'apprendre la programmation pour aucune raison spécifique. Je crois que je voulais créer les jeux vidéos ou devenir un hacker. Pour une raison différente, j'ai suivi les cours généraux au collège communautaire local.\n",
    "\n",
    "Malheureusement, j'ai dû suivre un cours de maths pour les débutants parce que les mathématiques étaient ma faiblesse. J'ai toujours le même problème."
   ]
  },
  {
   "cell_type": "code",
   "execution_count": 1,
   "id": "4d4c47ca",
   "metadata": {},
   "outputs": [
    {
     "name": "stdout",
     "output_type": "stream",
     "text": [
      "hello world\n"
     ]
    }
   ],
   "source": [
    "print(\"hello world\")"
   ]
  },
  {
   "cell_type": "code",
   "execution_count": null,
   "id": "2ddd7b93",
   "metadata": {},
   "outputs": [],
   "source": []
  },
  {
   "cell_type": "code",
   "execution_count": null,
   "outputs": [],
   "source": [],
   "metadata": {
    "collapsed": false,
    "pycharm": {
     "name": "#%%\n"
    }
   }
  }
 ],
 "metadata": {
  "kernelspec": {
   "display_name": "Python 3 (ipykernel)",
   "language": "python",
   "name": "python3"
  },
  "language_info": {
   "codemirror_mode": {
    "name": "ipython",
    "version": 3
   },
   "file_extension": ".py",
   "mimetype": "text/x-python",
   "name": "python",
   "nbconvert_exporter": "python",
   "pygments_lexer": "ipython3",
   "version": "3.9.6"
  }
 },
 "nbformat": 4,
 "nbformat_minor": 5
}