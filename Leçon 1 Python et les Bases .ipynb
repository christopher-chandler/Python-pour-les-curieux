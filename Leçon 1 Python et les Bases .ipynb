{
 "cells": [
  {
   "cell_type": "code",
   "execution_count": 1,
   "id": "0c6c87e4",
   "metadata": {},
   "outputs": [],
   "source": [
    "# Notre premier program"
   ]
  },
  {
   "cell_type": "markdown",
   "id": "12dfdad0",
   "metadata": {},
   "source": [
    "Le premier programm que l'on crée s'apelle Hello World "
   ]
  },
  {
   "cell_type": "code",
   "execution_count": null,
   "id": "4d4c47ca",
   "metadata": {},
   "outputs": [],
   "source": []
  },
  {
   "cell_type": "code",
   "execution_count": null,
   "id": "2ddd7b93",
   "metadata": {},
   "outputs": [],
   "source": []
  }
 ],
 "metadata": {
  "kernelspec": {
   "display_name": "Python 3 (ipykernel)",
   "language": "python",
   "name": "python3"
  },
  "language_info": {
   "codemirror_mode": {
    "name": "ipython",
    "version": 3
   },
   "file_extension": ".py",
   "mimetype": "text/x-python",
   "name": "python",
   "nbconvert_exporter": "python",
   "pygments_lexer": "ipython3",
   "version": "3.9.6"
  }
 },
 "nbformat": 4,
 "nbformat_minor": 5
}
