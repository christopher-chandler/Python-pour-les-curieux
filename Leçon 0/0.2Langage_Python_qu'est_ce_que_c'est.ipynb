{
 "cells": [
  {
   "cell_type": "markdown",
   "metadata": {
    "collapsed": true,
    "pycharm": {
     "name": "#%% md\n"
    }
   },
   "source": [
    "# Langage Python - qu'est-ce que c'est?"
   ]
  },
  {
   "cell_type": "markdown",
   "source": [
    "Python est un langage de programmation qu'il a été inventé par Guido van Rossum 1991.\n",
    "Il existe plusieurs langages de programmation par exemple C, C++, Javascript, Java, Ruby, etc. Cependant, le langage Python est le langage le plus populaire parce qu'il est un langage de programmation à fonctions générales. Cela veut dire que l'on peut utiliser python pour créer les choses diverses comme les sites web, les applications grandes ainsi que les petits scripts. C'est la raison pour laquelle on l'utilise pour la science des données, intelligence artificielle et l'apprentissage automatique."
   ],
   "metadata": {
    "collapsed": false
   }
  },
  {
   "cell_type": "markdown",
   "source": [
    "## Zen of Python\n",
    "\n",
    "Chaque langage de programmation a une philosophie et des conventions qui servissent à aider le programmer de créer des\n",
    "programmes uniques et beaux. En ce moment, ce n'est pas forcément nécessaire pour vous de connaître tous les réglés et les meilleures pratiques. Cependant, pour connaître la philosophie de Python créé par Tim Peters, il faut utiliser simplement la methode `import this`."
   ],
   "metadata": {
    "collapsed": false,
    "pycharm": {
     "name": "#%% md\n"
    }
   }
  },
  {
   "cell_type": "code",
   "execution_count": 2,
   "outputs": [],
   "source": [
    "import this"
   ],
   "metadata": {
    "collapsed": false,
    "pycharm": {
     "name": "#%%\n"
    }
   }
  },
  {
   "cell_type": "markdown",
   "source": [
    "Voici, une version bilingue:"
   ],
   "metadata": {
    "collapsed": false,
    "pycharm": {
     "name": "#%% md\n"
    }
   }
  },
  {
   "cell_type": "markdown",
   "source": [
    "| Anglais                                                                                                                                                                                                                                                                                                                                                                                                                                                                                                                                                                                                                                                                                                                                                                                                                                                                                                                                                   | Francais                                                                                                                                                                                                                                                                                                                                                                                                                                                                                                                                                                                                                                                                                                                                                                                                                                                                                                                                                                                                                                                                |\n",
    "|-----------------------------------------------------------------------------------------------------------------------------------------------------------------------------------------------------------------------------------------------------------------------------------------------------------------------------------------------------------------------------------------------------------------------------------------------------------------------------------------------------------------------------------------------------------------------------------------------------------------------------------------------------------------------------------------------------------------------------------------------------------------------------------------------------------------------------------------------------------------------------------------------------------------------------------------------------------|-------------------------------------------------------------------------------------------------------------------------------------------------------------------------------------------------------------------------------------------------------------------------------------------------------------------------------------------------------------------------------------------------------------------------------------------------------------------------------------------------------------------------------------------------------------------------------------------------------------------------------------------------------------------------------------------------------------------------------------------------------------------------------------------------------------------------------------------------------------------------------------------------------------------------------------------------------------------------------------------------------------------------------------------------------------------------|\n",
    "| The Zen of Python, by Tim Peters<br><br>Beautiful is better than ugly. <br><br>Explicit is better than implicit.<br>Simple is better than complex.<br>Complex is better than complicated.<br>Flat is better than nested.<br>Sparse is better than dense.<br>Readability counts.<br>Special cases aren't special enough to break the rules.<br>Although practicality beats purity.<br>Errors should never pass silently.<br>Unless explicitly silenced.<br>In the face of ambiguity, refuse the temptation to guess.<br>There should be one-- and preferably only one --obvious way to do it.<br>Although that way may not be obvious at first unless you're Dutch.<br>Now is better than never.<br>Although never is often better than *right* now.<br>If the implementation is hard to explain, it's a bad idea.<br>If the implementation is easy to explain, it may be a good idea.<br>Namespaces are one honking great idea -- let's do more of those! | Le Zen de Python, de Tim Peters<br><br>la beauté à la laideur, l’explicite à l’implicite,<br>le simple au complexe et le complexe au compliqué, <br>le déroulé à l’imbriqué, l’aéré au compact. <br>Prends en compte la lisibilité. <br>Les cas particuliers ne le sont jamais assez pour violer les règles. <br>Mais, à la pureté, privilégie l’aspect pratique. <br>Ne passe pas les erreurs sous silence, … ou bâillonne-les explicitement. <br>Face à l’ambiguïté, à deviner ne te laisse pas aller. <br>Sache qu’il ne devrait [y] avoir qu’une et une seule façon de procéder, <br>même si, de prime abord, elle n’est pas évidente, à moins d’être Néerlandais. <br>Mieux vaut maintenant que jamais. Cependant jamais est souvent mieux qu’immédiatement. <br>Si l’implémentation s’explique difficilement, c’est une mauvaise idée. <br>Si l’implémentation s’explique aisément, c’est peut-être une bonne idée.<br>Les espaces de nommage ! Sacrée bonne idée ! Faisons plus de trucs comme ça.<br><br>(Trevian et Cordeau cité dans Cordeau & Pointal, 2018) |"
   ],
   "metadata": {
    "collapsed": false
   }
  },
  {
   "cell_type": "code",
   "execution_count": 2,
   "outputs": [],
   "source": [],
   "metadata": {
    "collapsed": false,
    "pycharm": {
     "name": "#%%\n"
    }
   }
  }
 ],
 "metadata": {
  "kernelspec": {
   "display_name": "Python 3",
   "language": "python",
   "name": "python3"
  },
  "language_info": {
   "codemirror_mode": {
    "name": "ipython",
    "version": 2
   },
   "file_extension": ".py",
   "mimetype": "text/x-python",
   "name": "python",
   "nbconvert_exporter": "python",
   "pygments_lexer": "ipython2",
   "version": "2.7.6"
  }
 },
 "nbformat": 4,
 "nbformat_minor": 0
}