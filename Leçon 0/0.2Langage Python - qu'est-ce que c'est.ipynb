{
 "cells": [
  {
   "cell_type": "markdown",
   "metadata": {
    "collapsed": true,
    "pycharm": {
     "name": "#%% md\n"
    }
   },
   "source": [
    "# Langage Python - qu'est-ce que c'est?"
   ]
  },
  {
   "cell_type": "markdown",
   "source": [
    "Python est un langage de programmation qu'il a été inventéé par Guido van Rossum 1991.\n",
    "Il existe plusieurs langages de programmation, mais le language Python est le langage le plus populaire\n",
    "parce qu'il est un\n"
   ],
   "metadata": {
    "collapsed": false
   }
  },
  {
   "cell_type": "markdown",
   "source": [
    "## Zen of Python\n",
    "\n",
    "Chaque langage de programmation a une philosophie et des convetions qui sert à aider le programmer"
   ],
   "metadata": {
    "collapsed": false,
    "pycharm": {
     "name": "#%% md\n"
    }
   }
  },
  {
   "cell_type": "code",
   "execution_count": 1,
   "outputs": [
    {
     "name": "stdout",
     "output_type": "stream",
     "text": [
      "The Zen of Python, by Tim Peters\n",
      "\n",
      "Beautiful is better than ugly.\n",
      "Explicit is better than implicit.\n",
      "Simple is better than complex.\n",
      "Complex is better than complicated.\n",
      "Flat is better than nested.\n",
      "Sparse is better than dense.\n",
      "Readability counts.\n",
      "Special cases aren't special enough to break the rules.\n",
      "Although practicality beats purity.\n",
      "Errors should never pass silently.\n",
      "Unless explicitly silenced.\n",
      "In the face of ambiguity, refuse the temptation to guess.\n",
      "There should be one-- and preferably only one --obvious way to do it.\n",
      "Although that way may not be obvious at first unless you're Dutch.\n",
      "Now is better than never.\n",
      "Although never is often better than *right* now.\n",
      "If the implementation is hard to explain, it's a bad idea.\n",
      "If the implementation is easy to explain, it may be a good idea.\n",
      "Namespaces are one honking great idea -- let's do more of those!\n"
     ]
    }
   ],
   "source": [
    "import this"
   ],
   "metadata": {
    "collapsed": false,
    "pycharm": {
     "name": "#%%\n"
    }
   }
  },
  {
   "cell_type": "markdown",
   "source": [
    "Préfère :\n",
    "la beauté à la laideur,\n",
    "l'explicite à l'implicite,\n",
    "le simple au complexe\n",
    "et le complexe au compliqué,\n",
    "le déroulé à l'imbriqué,\n",
    "l'aéré au compact.\n",
    "Prends en compte la lisibilité.\n",
    "Les cas particuliers ne le sont jamais assez pour violer les règles.\n",
    "Mais, à la pureté, privilégie l'aspect pratique.\n",
    "Ne passe pas les erreurs sous silence,\n",
    "... ou bâillonne-les explicitement.\n",
    "Face à l'ambiguïté, à deviner ne te laisse pas aller.\n",
    "Sache qu'il ne devrait [y] avoir qu'une et une seule façon de procéder,\n",
    "même si, de prime abord, elle n'est pas évidente, à moins d'être Néerlandais.\n",
    "Mieux vaut maintenant que jamais.\n",
    "Cependant jamais est souvent mieux qu'immédiatement.\n",
    "Si l'implémentation s'explique difficilement, c'est une mauvaise idée.\n",
    "Si l'implémentation s'explique aisément, c'est peut-être une bonne idée.\n",
    "Les espaces de nommage ! Sacrée bonne idée ! Faisons plus de trucs comme ça."
   ],
   "metadata": {
    "collapsed": false,
    "pycharm": {
     "name": "#%% md\n"
    }
   }
  },
  {
   "cell_type": "code",
   "execution_count": null,
   "outputs": [],
   "source": [],
   "metadata": {
    "collapsed": false,
    "pycharm": {
     "name": "#%%\n"
    }
   }
  }
 ],
 "metadata": {
  "kernelspec": {
   "display_name": "Python 3",
   "language": "python",
   "name": "python3"
  },
  "language_info": {
   "codemirror_mode": {
    "name": "ipython",
    "version": 2
   },
   "file_extension": ".py",
   "mimetype": "text/x-python",
   "name": "python",
   "nbconvert_exporter": "python",
   "pygments_lexer": "ipython2",
   "version": "2.7.6"
  }
 },
 "nbformat": 4,
 "nbformat_minor": 0
}