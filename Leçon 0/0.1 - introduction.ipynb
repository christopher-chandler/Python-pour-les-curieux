{
 "cells": [
  {
   "cell_type": "markdown",
   "metadata": {
    "collapsed": true,
    "pycharm": {
     "name": "#%% md\n"
    }
   },
   "source": [
    "\n",
    "Langage Python - qu'est-ce que c'est?\n",
    "\n",
    "L'avant-propos"
   ]
  },
  {
   "cell_type": "markdown",
   "source": [
    "J'ai acheté un livre qui s'appelait \"C++ for dummies\" il y a 13 ans. A cette epoque-là, j'avais vraiment le désir d'apprendre la programmation pour aucune raison spécifique. Je crois que je voulais créer les jeux vidéos ou devenir un hacker. Pour une raison différente, j'ai suivi les cours généraux au collège communautaire local. Malheureusement, j'ai dû suivre un cours de maths pour les débutants parce que les mathématiques étaient ma faiblesse. J'ai toujours encore le même problème.\n",
    "\n",
    "Un jour quand j'ai été dans le cours de maths, la professeure a remarqué mon livre sur la table et elle m'a dit directement « Oh, vous voulez apprendre la programmation ? Ouf, c'est vraiment compliquée !» A cause de ça, j'ai arrêté tout suit d'apprendre la programmation parce qu'elle m'a dit que la programmation était vraiment compliquée.\n",
    "\n",
    "Je ne voudrais pas vous dire que la programmation, indépendamment du langage que vous avez choisi d'apprendre, est facile, mais je voudrais  "
   ],
   "metadata": {
    "collapsed": false,
    "pycharm": {
     "name": "#%% md\n"
    }
   }
  },
  {
   "cell_type": "markdown",
   "source": [],
   "metadata": {
    "collapsed": false
   }
  },
  {
   "cell_type": "code",
   "execution_count": null,
   "outputs": [],
   "source": [],
   "metadata": {
    "collapsed": false,
    "pycharm": {
     "name": "#%%\n"
    }
   }
  }
 ],
 "metadata": {
  "kernelspec": {
   "display_name": "Python 3",
   "language": "python",
   "name": "python3"
  },
  "language_info": {
   "codemirror_mode": {
    "name": "ipython",
    "version": 2
   },
   "file_extension": ".py",
   "mimetype": "text/x-python",
   "name": "python",
   "nbconvert_exporter": "python",
   "pygments_lexer": "ipython2",
   "version": "2.7.6"
  }
 },
 "nbformat": 4,
 "nbformat_minor": 0
}