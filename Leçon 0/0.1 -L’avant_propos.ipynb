{
 "cells": [
  {
   "cell_type": "markdown",
   "source": [
    "# L'avant-propos"
   ],
   "metadata": {
    "collapsed": false
   }
  },
  {
   "cell_type": "markdown",
   "source": [
    "J'ai acheté un livre qui s'appelait \"C++ for dummies\" il y a 13 ans. A cette epoque-là, j'avais vraiment le désir d'apprendre la programmation pour aucune raison spécifique. Je crois que je voulais créer les jeux vidéos ou devenir un hacker. Pour une raison différente, j'ai suivi en même temps les cours généraux au collège communautaire local aux États-Unis. Malheureusement, j'ai eu un cours de maths pour les débutants parce que les mathématiques étaient ma faiblesse - J'ai toujours encore le même problème.\n",
    "\n",
    "Un jour quand j'ai été dans le cours de maths, la professeure a remarqué mon livre sur la table et elle m'a dit directement «Oh, vous apprenez la programmation ? Ouf, c'est vraiment compliquée, hein?» A cause de son remarque, j'ai arrêté tout de suite d'apprendre la programmation parce qu'elle m'a dit que la programmation était vraiment compliquée. Une personne m'a donné l'impression que je n'étais assez intelligent d'apprendre une chose comme ça. Je sais qu'elle ne l'a pas dit directement, mais c'était le sentiment.\n",
    "\n",
    "Je ne voudrais pas vous dire que la programmation, indépendamment du langage que vous avez choisi d'apprendre, est facile. En réalité, la programmation est difficile et parfois stressant, mais je voudrais vous dire qu'il vaut la peine de l'apprendre. Donc, si vous êtes patient et n'abandonnez pas l'espoir, je suis certain que vous pouvez également apprendre le Python!"
   ],
   "metadata": {
    "collapsed": false
   }
  },
  {
   "cell_type": "markdown",
   "source": [],
   "metadata": {
    "collapsed": false,
    "pycharm": {
     "name": "#%% md\n"
    }
   }
  }
 ],
 "metadata": {
  "kernelspec": {
   "display_name": "Python 3",
   "language": "python",
   "name": "python3"
  },
  "language_info": {
   "codemirror_mode": {
    "name": "ipython",
    "version": 2
   },
   "file_extension": ".py",
   "mimetype": "text/x-python",
   "name": "python",
   "nbconvert_exporter": "python",
   "pygments_lexer": "ipython2",
   "version": "2.7.6"
  }
 },
 "nbformat": 4,
 "nbformat_minor": 0
}